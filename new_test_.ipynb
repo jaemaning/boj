{
 "cells": [
  {
   "cell_type": "code",
   "execution_count": 13,
   "metadata": {},
   "outputs": [
    {
     "name": "stdout",
     "output_type": "stream",
     "text": [
      "False\n",
      "3\n",
      "3\n",
      "None\n",
      "None\n",
      "[1, 2, 1, '1']\n"
     ]
    }
   ],
   "source": [
    "class Stack:\n",
    "\n",
    "    def __init__(self, *arg):\n",
    "        self.arg = list(arg)\n",
    "\n",
    "    def empty(self):\n",
    "        if self.arg:\n",
    "            return False\n",
    "        else:\n",
    "            return True\n",
    "\n",
    "    def top(self):\n",
    "        if self.arg:\n",
    "            return self.arg[-1]\n",
    "        else:\n",
    "            return None\n",
    "    \n",
    "    def pop(self):\n",
    "        if self.arg:\n",
    "            result = self.arg[-1]\n",
    "            del self.arg[-1]\n",
    "            return result\n",
    "        else:\n",
    "            return None\n",
    "\n",
    "    def push(self, num):\n",
    "        self.arg += [num]\n",
    "\n",
    "    def __repr__(self):\n",
    "        return f\"{self.arg}\"\n",
    "\n",
    "stk_list = Stack(1,2,3)\n",
    "\n",
    "print(stk_list.empty())\n",
    "print(stk_list.top())\n",
    "print(stk_list.pop())\n",
    "print(stk_list.push(1))\n",
    "print(stk_list.push(\"1\"))\n",
    "print(stk_list)"
   ]
  },
  {
   "cell_type": "code",
   "execution_count": 8,
   "metadata": {},
   "outputs": [
    {
     "data": {
      "text/plain": [
       "tuple"
      ]
     },
     "execution_count": 8,
     "metadata": {},
     "output_type": "execute_result"
    }
   ],
   "source": [
    "type(\"A\").__mro__\n",
    "type((1,2))"
   ]
  },
  {
   "cell_type": "code",
   "execution_count": 10,
   "metadata": {},
   "outputs": [
    {
     "data": {
      "text/plain": [
       "[1, 2, 3, 1]"
      ]
     },
     "execution_count": 10,
     "metadata": {},
     "output_type": "execute_result"
    }
   ],
   "source": [
    "[1,2,3] + [1]"
   ]
  }
 ],
 "metadata": {
  "kernelspec": {
   "display_name": "Python 3",
   "language": "python",
   "name": "python3"
  },
  "language_info": {
   "codemirror_mode": {
    "name": "ipython",
    "version": 3
   },
   "file_extension": ".py",
   "mimetype": "text/x-python",
   "name": "python",
   "nbconvert_exporter": "python",
   "pygments_lexer": "ipython3",
   "version": "3.10.0"
  },
  "orig_nbformat": 4,
  "vscode": {
   "interpreter": {
    "hash": "26de051ba29f2982a8de78e945f0abaf191376122a1563185a90213a26c5da77"
   }
  }
 },
 "nbformat": 4,
 "nbformat_minor": 2
}
