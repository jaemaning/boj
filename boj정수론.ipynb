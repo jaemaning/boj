{
 "cells": [
  {
   "cell_type": "code",
   "execution_count": 7,
   "metadata": {},
   "outputs": [
    {
     "name": "stdout",
     "output_type": "stream",
     "text": [
      "3 "
     ]
    }
   ],
   "source": [
    "# 2981 검문 try 1  # 유클리드 호제법\n",
    "\n",
    "n = int(input())\n",
    "nlist = []\n",
    "result = []\n",
    "\n",
    "for _ in range(n):\n",
    "    number = int(input())\n",
    "    nlist.append(number)\n",
    "\n",
    "max_n = max(nlist)\n",
    "min_n = min(nlist)\n",
    "\n",
    "if min_n >= max_n**0.5 :\n",
    "    for i in range(2,int(max_n**0.5)+2):\n",
    "        pre = nlist[0] % i\n",
    "        for number_n in nlist:\n",
    "            if number_n % i != pre:\n",
    "                break\n",
    "        else:\n",
    "            result.append(i)\n",
    "\n",
    "else: \n",
    "    for i in range(2,min_n+1):\n",
    "        pre = nlist[0] % i\n",
    "        for number_n in nlist:\n",
    "            if number_n % i != pre:\n",
    "                break\n",
    "        else:\n",
    "            result.append(i)\n",
    "\n",
    "for re in result:\n",
    "    print(re, end=\" \")"
   ]
  },
  {
   "cell_type": "code",
   "execution_count": 17,
   "metadata": {},
   "outputs": [
    {
     "name": "stdout",
     "output_type": "stream",
     "text": [
      "2 3 5 6 10 15 "
     ]
    }
   ],
   "source": [
    "## 2981 검문 try 2\n",
    "\n",
    "n = int(input())\n",
    "nlist = []\n",
    "result = []\n",
    "\n",
    "for _ in range(n):\n",
    "    number = int(input())\n",
    "    nlist.append(number)\n",
    "\n",
    "max_n = max(nlist)\n",
    "min_n = min(nlist)\n",
    "\n",
    "if min_n > max_n**0.5 :\n",
    "\n",
    "    for i in range(2,int(max_n**0.5)+2):\n",
    "        pre = nlist[0] % i\n",
    "        for number_n in nlist:\n",
    "            if number_n % i != pre:\n",
    "                break\n",
    "        else:\n",
    "            result.append(i)\n",
    "\n",
    "    for i in range(min_n,max_n):\n",
    "        pre = nlist[0] % i\n",
    "        for number_n in nlist:\n",
    "            if number_n % i != pre:\n",
    "                break\n",
    "        else:\n",
    "            result.append(i)\n",
    "\n",
    "else :\n",
    "    for i in range(2,int(max_n**0.5)+2):\n",
    "        pre = nlist[0] % i\n",
    "        for number_n in nlist:\n",
    "            if number_n % i != pre:\n",
    "                break\n",
    "        else:\n",
    "            result.append(i) \n",
    "\n",
    "for re in result:\n",
    "    print(re, end=\" \")\n",
    "\n"
   ]
  },
  {
   "cell_type": "code",
   "execution_count": 12,
   "metadata": {},
   "outputs": [
    {
     "name": "stdout",
     "output_type": "stream",
     "text": [
      "3 5 15 25 75\n"
     ]
    }
   ],
   "source": [
    "import math\n",
    "\n",
    "def lc(x, y):\n",
    "    r = x%y\n",
    "    if r == 0: return y\n",
    "    else: return lc(y, r)\n",
    "\n",
    "n = int(input())\n",
    "\n",
    "l = [int(input()) for i in range(n)]\n",
    "\n",
    "l.sort(); ll = l[0]; res = []\n",
    "\n",
    "for j in range(n):\n",
    "    l[j] -= ll\n",
    "\n",
    "lcv = lc(l[1], l[n-1])\n",
    "\n",
    "for k in range(2, lcv+1):\n",
    "    if math.isclose(lcv%k, 0): res.append(str(k))\n",
    "\n",
    "print(' '.join(res))"
   ]
  },
  {
   "cell_type": "code",
   "execution_count": 16,
   "metadata": {},
   "outputs": [
    {
     "data": {
      "text/plain": [
       "31622.776585872405"
      ]
     },
     "execution_count": 16,
     "metadata": {},
     "output_type": "execute_result"
    }
   ],
   "source": [
    "999999999**0.5"
   ]
  }
 ],
 "metadata": {
  "kernelspec": {
   "display_name": "Python 3",
   "language": "python",
   "name": "python3"
  },
  "language_info": {
   "codemirror_mode": {
    "name": "ipython",
    "version": 3
   },
   "file_extension": ".py",
   "mimetype": "text/x-python",
   "name": "python",
   "nbconvert_exporter": "python",
   "pygments_lexer": "ipython3",
   "version": "3.10.0"
  },
  "orig_nbformat": 4,
  "vscode": {
   "interpreter": {
    "hash": "26de051ba29f2982a8de78e945f0abaf191376122a1563185a90213a26c5da77"
   }
  }
 },
 "nbformat": 4,
 "nbformat_minor": 2
}
