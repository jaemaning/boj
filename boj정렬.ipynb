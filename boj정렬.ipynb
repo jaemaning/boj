{
 "cells": [
  {
   "cell_type": "code",
   "execution_count": 9,
   "metadata": {},
   "outputs": [
    {
     "name": "stdout",
     "output_type": "stream",
     "text": [
      "875432\n"
     ]
    }
   ],
   "source": [
    "#1427 소트인사이드\n",
    "\n",
    "n = input()\n",
    "\n",
    "numlist = list(map(int,n))\n",
    "sort_numlist=sorted(numlist)[::-1]\n",
    "result = \"\"\n",
    "for i in sort_numlist:\n",
    "    result += str(i)\n",
    "\n",
    "print(result)"
   ]
  },
  {
   "cell_type": "code",
   "execution_count": 17,
   "metadata": {},
   "outputs": [
    {
     "name": "stdout",
     "output_type": "stream",
     "text": [
      "1 -1\n",
      "1 1\n",
      "2 2\n",
      "3 3\n",
      "3 4\n"
     ]
    }
   ],
   "source": [
    "#11650 좌표 정렬하기\n",
    "\n",
    "n = int(input())\n",
    "xy_list=[]\n",
    "\n",
    "for i in range(n):\n",
    "    xy = list(map(int,input().split()))\n",
    "    xy_list.append(xy)\n",
    "\n",
    "sorted_xy_list=sorted(xy_list, key=lambda xy: (xy[0],xy[1]))\n",
    "for i in sorted_xy_list:\n",
    "    print(i[0],i[1])"
   ]
  },
  {
   "cell_type": "code",
   "execution_count": 19,
   "metadata": {},
   "outputs": [
    {
     "name": "stdout",
     "output_type": "stream",
     "text": [
      "1 -1\n",
      "1 2\n",
      "2 2\n",
      "3 3\n",
      "0 4\n"
     ]
    }
   ],
   "source": [
    "#11651 좌표 정렬하기2\n",
    "\n",
    "n = int(input())\n",
    "xy_list=[]\n",
    "\n",
    "for i in range(n):\n",
    "    xy = list(map(int,input().split()))\n",
    "    xy_list.append(xy)\n",
    "\n",
    "sorted_xy_list=sorted(xy_list, key=lambda xy: (xy[1],xy[0]))\n",
    "for i in sorted_xy_list:\n",
    "    print(i[0],i[1])"
   ]
  },
  {
   "cell_type": "code",
   "execution_count": 33,
   "metadata": {},
   "outputs": [
    {
     "name": "stdout",
     "output_type": "stream",
     "text": [
      "[(3, 'abc'), (3, 'bca'), (3, 'ccc')]\n"
     ]
    }
   ],
   "source": [
    "n = int(input())\n",
    "word_list = []\n",
    "leng_list = []\n",
    "\n",
    "for i in range(n):\n",
    "    word = input()\n",
    "    if not word in word_list:\n",
    "        length = len(word)\n",
    "        word_list.append(word)\n",
    "        leng_list.append(length)\n",
    "\n",
    "print(sorted(zip(leng_list,word_list)))\n",
    "# result = [i for _,i in sorted(zip(leng_list,word_list))]\n",
    "\n",
    "# for res in result:\n",
    "#     print(res)"
   ]
  },
  {
   "cell_type": "code",
   "execution_count": 37,
   "metadata": {},
   "outputs": [
    {
     "name": "stdout",
     "output_type": "stream",
     "text": [
      "20 suny\n",
      "21 junk\n",
      "21 doh\n"
     ]
    }
   ],
   "source": [
    "n = int(input())\n",
    "quelist = []\n",
    "\n",
    "for i in range(n):\n",
    "    age,name = input().split()\n",
    "    quelist.append([int(age),name,i])\n",
    "\n",
    "sorted_quelist=sorted(quelist, key=lambda x: (x[0],x[2]))\n",
    "\n",
    "for i in sorted_quelist:\n",
    "    print(i[0],i[1])"
   ]
  }
 ],
 "metadata": {
  "kernelspec": {
   "display_name": "Python 3",
   "language": "python",
   "name": "python3"
  },
  "language_info": {
   "codemirror_mode": {
    "name": "ipython",
    "version": 3
   },
   "file_extension": ".py",
   "mimetype": "text/x-python",
   "name": "python",
   "nbconvert_exporter": "python",
   "pygments_lexer": "ipython3",
   "version": "3.10.0"
  },
  "orig_nbformat": 4,
  "vscode": {
   "interpreter": {
    "hash": "26de051ba29f2982a8de78e945f0abaf191376122a1563185a90213a26c5da77"
   }
  }
 },
 "nbformat": 4,
 "nbformat_minor": 2
}
