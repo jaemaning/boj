{
 "cells": [
  {
   "cell_type": "code",
   "execution_count": 1,
   "metadata": {},
   "outputs": [
    {
     "name": "stdout",
     "output_type": "stream",
     "text": [
      "A\n"
     ]
    }
   ],
   "source": [
    "# 1936. 1대1 가위바위보\n",
    "\n",
    "a,b = map(int,input().split())\n",
    "\n",
    "if a==1 and b==3 :\n",
    "    print(\"A\")\n",
    "elif a==3 and b==1 :\n",
    "    print(\"B\")\n",
    "else :\n",
    "    if a<b:\n",
    "        print(\"B\")\n",
    "    else:\n",
    "        print(\"A\")\n",
    "\n",
    "\n",
    "\n"
   ]
  },
  {
   "cell_type": "code",
   "execution_count": 15,
   "metadata": {},
   "outputs": [
    {
     "name": "stdout",
     "output_type": "stream",
     "text": [
      "#1 57\n"
     ]
    }
   ],
   "source": [
    "# 2072. 홀수만 더하기\n",
    "\n",
    "T = int(input())\n",
    "# 여러개의 테스트 케이스가 주어지므로, 각각을 처리합니다.\n",
    "for test_case in range(1, T + 1):\n",
    "\n",
    "    numberlist = list(map(int, input().split()))\n",
    "    result = 0\n",
    "\n",
    "    for j in numberlist:\n",
    "        if j%2 != 0:\n",
    "            result += j"
   ]
  },
  {
   "cell_type": "code",
   "execution_count": 5,
   "metadata": {},
   "outputs": [
    {
     "name": "stdout",
     "output_type": "stream",
     "text": [
      "30\n"
     ]
    }
   ],
   "source": [
    "# 2058 .자릿수 더하기\n",
    "number = input()\n",
    "result=0\n",
    "\n",
    "for i in number:\n",
    "    result+=int(i)\n",
    "\n",
    "print(result)"
   ]
  },
  {
   "cell_type": "code",
   "execution_count": 16,
   "metadata": {},
   "outputs": [
    {
     "name": "stdout",
     "output_type": "stream",
     "text": [
      "58\n"
     ]
    }
   ],
   "source": [
    "# 2063. 중간값 찾기\n",
    "\n",
    "n = int(input())\n",
    "target = n//2\n",
    "\n",
    "numberList = list(map(int,input().split()))\n",
    "sortList=sorted(numberList)\n",
    "print(sortList[target])"
   ]
  },
  {
   "cell_type": "code",
   "execution_count": 17,
   "metadata": {},
   "outputs": [
    {
     "name": "stdout",
     "output_type": "stream",
     "text": [
      "#1 99\n",
      "#2 123\n",
      "#3 76\n"
     ]
    }
   ],
   "source": [
    "# 2068 .최대수 구하기\n",
    "\n",
    "T = int(input())\n",
    "# 여러개의 테스트 케이스가 주어지므로, 각각을 처리합니다.\n",
    "for test_case in range(1, T + 1):\n",
    "    numberList = map(int, input().split())\n",
    "    targetValue = max(numberList)\n",
    "    print(f\"#{test_case} {targetValue}\")"
   ]
  },
  {
   "cell_type": "code",
   "execution_count": 19,
   "metadata": {},
   "outputs": [
    {
     "name": "stdout",
     "output_type": "stream",
     "text": [
      "#1 24\n",
      "#2 29\n",
      "#3 27\n"
     ]
    }
   ],
   "source": [
    "# 2071 .평균값 구하기\n",
    "\n",
    "T = int(input())\n",
    "# 여러개의 테스트 케이스가 주어지므로, 각각을 처리합니다.\n",
    "for test_case in range(1, T + 1):\n",
    "    numberList = map(int, input().split())\n",
    "    avg=round(sum(numberList)/10)\n",
    "    print(f\"#{test_case} {avg}\")\n"
   ]
  },
  {
   "cell_type": "code",
   "execution_count": 24,
   "metadata": {},
   "outputs": [
    {
     "name": "stdout",
     "output_type": "stream",
     "text": [
      "#1 [0, 0, 0, 0, 0, 0, 0, 0, 0, 0, 0]\n"
     ]
    }
   ],
   "source": [
    "# 1204 .[S/W 문제해결 기본] 1일차 - 최빈수 구하기\n",
    "\n",
    "T = int(input())\n",
    "# 여러개의 테스트 케이스가 주어지므로, 각각을 처리합니다.\n",
    "for test_case in range(1, T + 1):\n",
    "    test_num = int(input())\n",
    "    numberList = map(int, input().split())\n",
    "    maxValue = max(numberList)\n",
    "    countList = [0]*(maxValue+1)\n",
    "    for i in numberList:\n",
    "        countList[i]= countList[i]+1\n",
    "        print(countList)\n",
    "\n",
    "    print(f\"#{test_num} {countList}\")"
   ]
  },
  {
   "cell_type": "markdown",
   "metadata": {},
   "source": []
  }
 ],
 "metadata": {
  "kernelspec": {
   "display_name": "base",
   "language": "python",
   "name": "python3"
  },
  "language_info": {
   "codemirror_mode": {
    "name": "ipython",
    "version": 3
   },
   "file_extension": ".py",
   "mimetype": "text/x-python",
   "name": "python",
   "nbconvert_exporter": "python",
   "pygments_lexer": "ipython3",
   "version": "3.7.6"
  },
  "orig_nbformat": 4,
  "vscode": {
   "interpreter": {
    "hash": "263930470851f494f0ed2879c35b57985588df20f9e529b86e97dd5eb9ddc466"
   }
  }
 },
 "nbformat": 4,
 "nbformat_minor": 2
}
