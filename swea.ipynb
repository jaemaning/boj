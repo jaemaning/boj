{
 "cells": [
  {
   "cell_type": "code",
   "execution_count": 6,
   "metadata": {},
   "outputs": [
    {
     "name": "stdout",
     "output_type": "stream",
     "text": [
      "B\n"
     ]
    }
   ],
   "source": [
    "# 1936. 1대1 가위바위보\n",
    "\n",
    "a,b = map(int,input().split())\n",
    "\n",
    "if a==1 and b==3 :\n",
    "    print(\"A\")\n",
    "elif a==3 and b==1 :\n",
    "    print(\"B\")\n",
    "else :\n",
    "    if a<b:\n",
    "        print(\"B\")\n",
    "    else:\n",
    "        print(\"A\")\n",
    "\n",
    "\n",
    "\n"
   ]
  },
  {
   "cell_type": "code",
   "execution_count": 14,
   "metadata": {},
   "outputs": [
    {
     "name": "stdout",
     "output_type": "stream",
     "text": [
      "#1200\n",
      "#2208\n",
      "#3121\n"
     ]
    }
   ],
   "source": [
    "# 2072. 홀수만 더하기\n",
    "\n",
    "n = int(input())\n",
    "for i in range(1,n+1):\n",
    "\n",
    "    numberlist = list(map(int,input().split()))\n",
    "    result = 0\n",
    "\n",
    "    for j in numberlist:\n",
    "        if j%2 != 0:\n",
    "            result +=j\n",
    "\n",
    "    print(\"#\" +str(i) +\" \" +str(result))"
   ]
  },
  {
   "cell_type": "code",
   "execution_count": null,
   "metadata": {},
   "outputs": [],
   "source": []
  },
  {
   "cell_type": "code",
   "execution_count": null,
   "metadata": {},
   "outputs": [],
   "source": []
  }
 ],
 "metadata": {
  "kernelspec": {
   "display_name": "Python 3",
   "language": "python",
   "name": "python3"
  },
  "language_info": {
   "codemirror_mode": {
    "name": "ipython",
    "version": 3
   },
   "file_extension": ".py",
   "mimetype": "text/x-python",
   "name": "python",
   "nbconvert_exporter": "python",
   "pygments_lexer": "ipython3",
   "version": "3.10.0"
  },
  "orig_nbformat": 4,
  "vscode": {
   "interpreter": {
    "hash": "26de051ba29f2982a8de78e945f0abaf191376122a1563185a90213a26c5da77"
   }
  }
 },
 "nbformat": 4,
 "nbformat_minor": 2
}
