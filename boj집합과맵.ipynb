{
 "cells": [
  {
   "cell_type": "code",
   "execution_count": 5,
   "metadata": {},
   "outputs": [
    {
     "name": "stdout",
     "output_type": "stream",
     "text": [
      "1 0 0 1 1 0 0 1 "
     ]
    }
   ],
   "source": [
    "# 10815 숫자카드\n",
    "\n",
    "n = int(input())\n",
    "nlist = sorted(list(map(int,input().split())))\n",
    "m = int(input())\n",
    "mlist = list(map(int,input().split()))\n",
    "\n",
    "def findcard(card,start,end):\n",
    "\n",
    "    mid = (start + end) // 2\n",
    "\n",
    "    if nlist[start] == card or nlist[end-1] == card:\n",
    "        return 1\n",
    "\n",
    "    while start != mid and end != mid :\n",
    "\n",
    "        if nlist[mid] == card:\n",
    "            return 1\n",
    "\n",
    "        elif nlist[mid] < card :\n",
    "            start = mid\n",
    "\n",
    "        else :\n",
    "            end = mid\n",
    "\n",
    "        mid = (start + end) // 2\n",
    "\n",
    "    return 0\n",
    "\n",
    "for i in mlist:\n",
    "    print(findcard(i,0,len(nlist)),end=\" \")\n"
   ]
  },
  {
   "cell_type": "code",
   "execution_count": null,
   "metadata": {},
   "outputs": [],
   "source": []
  }
 ],
 "metadata": {
  "kernelspec": {
   "display_name": "Python 3",
   "language": "python",
   "name": "python3"
  },
  "language_info": {
   "codemirror_mode": {
    "name": "ipython",
    "version": 3
   },
   "file_extension": ".py",
   "mimetype": "text/x-python",
   "name": "python",
   "nbconvert_exporter": "python",
   "pygments_lexer": "ipython3",
   "version": "3.10.0"
  },
  "orig_nbformat": 4,
  "vscode": {
   "interpreter": {
    "hash": "26de051ba29f2982a8de78e945f0abaf191376122a1563185a90213a26c5da77"
   }
  }
 },
 "nbformat": 4,
 "nbformat_minor": 2
}
