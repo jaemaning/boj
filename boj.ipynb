{
 "cells": [
  {
   "cell_type": "code",
   "execution_count": 6,
   "metadata": {},
   "outputs": [
    {
     "name": "stdout",
     "output_type": "stream",
     "text": [
      "[1, 2, 3]\n"
     ]
    }
   ],
   "source": [
    "#1021 회전하는 큐\n",
    "\n",
    "a,b = map(int,input().split())\n",
    "c = list(map(int,input().split()))\n",
    "count=0\n",
    "print(c)\n",
    "\n",
    "for i in len(c):\n",
    "    if c[i] == 1 :\n",
    "        pass\n",
    "    \n",
    "    if a-c < a/2 :\n",
    "        for i in len(c):\n",
    "            c[i] - \n",
    "    elif a-c == a/2 :\n",
    "\n",
    "    else:\n"
   ]
  }
 ],
 "metadata": {
  "kernelspec": {
   "display_name": "Python 3",
   "language": "python",
   "name": "python3"
  },
  "language_info": {
   "codemirror_mode": {
    "name": "ipython",
    "version": 3
   },
   "file_extension": ".py",
   "mimetype": "text/x-python",
   "name": "python",
   "nbconvert_exporter": "python",
   "pygments_lexer": "ipython3",
   "version": "3.10.0"
  },
  "orig_nbformat": 4,
  "vscode": {
   "interpreter": {
    "hash": "26de051ba29f2982a8de78e945f0abaf191376122a1563185a90213a26c5da77"
   }
  }
 },
 "nbformat": 4,
 "nbformat_minor": 2
}
