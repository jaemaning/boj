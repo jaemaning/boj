{
 "cells": [
  {
   "cell_type": "code",
   "execution_count": 1,
   "metadata": {},
   "outputs": [
    {
     "ename": "ValueError",
     "evalue": "not enough values to unpack (expected 2, got 0)",
     "output_type": "error",
     "traceback": [
      "\u001b[1;31m---------------------------------------------------------------------------\u001b[0m",
      "\u001b[1;31mValueError\u001b[0m                                Traceback (most recent call last)",
      "Cell \u001b[1;32mIn[1], line 4\u001b[0m\n\u001b[0;32m      1\u001b[0m \u001b[39m#1021 회전하는 큐\u001b[39;00m\n\u001b[0;32m      2\u001b[0m \u001b[39mfrom\u001b[39;00m \u001b[39mcollections\u001b[39;00m \u001b[39mimport\u001b[39;00m deque\n\u001b[1;32m----> 4\u001b[0m n,m \u001b[39m=\u001b[39m \u001b[39mmap\u001b[39m(\u001b[39mint\u001b[39m,\u001b[39minput\u001b[39m()\u001b[39m.\u001b[39msplit())\n\u001b[0;32m      5\u001b[0m targets \u001b[39m=\u001b[39m \u001b[39mlist\u001b[39m((\u001b[39mmap\u001b[39m(\u001b[39mint\u001b[39m,\u001b[39minput\u001b[39m()\u001b[39m.\u001b[39msplit())))\n\u001b[0;32m      6\u001b[0m dq \u001b[39m=\u001b[39m deque(x \u001b[39mfor\u001b[39;00m x \u001b[39min\u001b[39;00m \u001b[39mrange\u001b[39m(\u001b[39m1\u001b[39m,n\u001b[39m+\u001b[39m\u001b[39m1\u001b[39m))\n",
      "\u001b[1;31mValueError\u001b[0m: not enough values to unpack (expected 2, got 0)"
     ]
    }
   ],
   "source": [
    "#1021 회전하는 큐\n",
    "from collections import deque\n",
    "\n",
    "n,m = map(int,input().split())\n",
    "targets = list((map(int,input().split())))\n",
    "dq = deque(x for x in range(1,n+1))\n",
    "count=0\n",
    "\n",
    "for target in targets:\n",
    "    if target == dq[0] :\n",
    "        dq.popleft()            \n",
    "        \n",
    "    elif dq.index(target)+1 <= len(dq)/2+1 :\n",
    "        while target != dq[0]:\n",
    "            dq.append(dq.popleft())\n",
    "            count+=1\n",
    "        dq.popleft()\n",
    "        \n",
    "        \n",
    "    \n",
    "    elif dq.index(target)+1 > len(dq)/2+1 :\n",
    "        while target != dq[0]:\n",
    "            dq.appendleft(dq.pop())\n",
    "            count+=1\n",
    "        dq.popleft()\n",
    "        \n",
    "\n",
    "print(count)\n"
   ]
  },
  {
   "cell_type": "code",
   "execution_count": 12,
   "metadata": {},
   "outputs": [
    {
     "name": "stdout",
     "output_type": "stream",
     "text": [
      "o\n"
     ]
    }
   ],
   "source": [
    "# 1032 명령 프롬프트\n",
    "\n",
    "n = int(input())\n",
    "namelist = []\n",
    "for i in range(n):\n",
    "    name = input()\n",
    "    if i != 0:\n",
    "        for j in range(len(name)):\n",
    "            if namelist[i-1][j] != name[j]:\n",
    "                name = name[0:j] + \"?\" + name[j+1:]\n",
    "            \n",
    "\n",
    "    namelist.append(name)\n",
    "    \n",
    "print(namelist[n-1])\n"
   ]
  },
  {
   "cell_type": "code",
   "execution_count": 33,
   "metadata": {},
   "outputs": [
    {
     "name": "stdout",
     "output_type": "stream",
     "text": [
      "497\n"
     ]
    }
   ],
   "source": [
    "#2798 블랙잭\n",
    "\n",
    "n,m = map(int,input().split())\n",
    "numberlist = list(map(int,input().split()))\n",
    "result=[]\n",
    "answer = 0\n",
    "\n",
    "def sum(n) :\n",
    "    result=0\n",
    "    for i in n :\n",
    "        result+=i\n",
    "    \n",
    "    return result\n",
    "\n",
    "def blackjack(arr,x,m):\n",
    "    global answer\n",
    "\n",
    "    if len(result) == 3:\n",
    "        if sum(result) == m:\n",
    "            answer = sum(result)\n",
    "            \n",
    "        if sum(result) < m and sum(result) > answer:\n",
    "            answer = sum(result)\n",
    "            \n",
    "        return\n",
    "\n",
    "    for i in range(len(arr)):\n",
    "        result.append(arr[i])\n",
    "        blackjack(arr[i+1:],x-1,m)\n",
    "        result.pop()\n",
    "\n",
    "    return answer\n",
    "\n",
    "print(blackjack(numberlist,3,m))"
   ]
  },
  {
   "cell_type": "code",
   "execution_count": 10,
   "metadata": {},
   "outputs": [
    {
     "name": "stdout",
     "output_type": "stream",
     "text": [
      "[[1, 2, 3], [1, 2, 4], [1, 2, 5], [1, 3, 2], [1, 3, 4], [1, 3, 5], [1, 4, 2], [1, 4, 3], [1, 4, 5], [1, 5, 2], [1, 5, 3], [1, 5, 4], [2, 1, 3], [2, 1, 4], [2, 1, 5], [2, 3, 1], [2, 3, 4], [2, 3, 5], [2, 4, 1], [2, 4, 3], [2, 4, 5], [2, 5, 1], [2, 5, 3], [2, 5, 4], [3, 1, 2], [3, 1, 4], [3, 1, 5], [3, 2, 1], [3, 2, 4], [3, 2, 5], [3, 4, 1], [3, 4, 2], [3, 4, 5], [3, 5, 1], [3, 5, 2], [3, 5, 4], [4, 1, 2], [4, 1, 3], [4, 1, 5], [4, 2, 1], [4, 2, 3], [4, 2, 5], [4, 3, 1], [4, 3, 2], [4, 3, 5], [4, 5, 1], [4, 5, 2], [4, 5, 3], [5, 1, 2], [5, 1, 3], [5, 1, 4], [5, 2, 1], [5, 2, 3], [5, 2, 4], [5, 3, 1], [5, 3, 2], [5, 3, 4], [5, 4, 1], [5, 4, 2], [5, 4, 3]]\n"
     ]
    }
   ],
   "source": [
    "# permutation 구현\n",
    "\n",
    "def perm(arr,n):\n",
    "\n",
    "    \n",
    "    if len(result) == n:\n",
    "        results.append(result[:])\n",
    "        return \n",
    "\n",
    "    for i in range(len(arr)):\n",
    "        if not checklist[i] :\n",
    "            #실행\n",
    "            checklist[i] = 1\n",
    "            result.append(arr[i])\n",
    "            perm(arr,n)\n",
    "            checklist[i] = 0\n",
    "            result.pop()\n",
    "        #안실행\n",
    "\n",
    "    return results\n",
    "\n",
    "\n",
    "arr = [1,2,3,4,5]\n",
    "n=3\n",
    "checklist = [0] * len(arr)\n",
    "results=[]\n",
    "result=[]\n",
    "\n",
    "\n",
    "\n",
    "print(perm(arr,n))\n",
    "\n",
    "\n"
   ]
  },
  {
   "cell_type": "code",
   "execution_count": 15,
   "metadata": {},
   "outputs": [
    {
     "name": "stdout",
     "output_type": "stream",
     "text": [
      "[[1, 2, 3], [1, 2, 4], [1, 2, 5], [1, 3, 4], [1, 3, 5], [1, 4, 5], [2, 3, 4], [2, 3, 5], [2, 4, 5], [3, 4, 5]]\n"
     ]
    }
   ],
   "source": [
    "## combination 구현\n",
    "\n",
    "def comb(arr,n,t):\n",
    "    if len(result) == t :\n",
    "        results.append(result[:])\n",
    "        return\n",
    "\n",
    "    for i in range(len(arr)):\n",
    "        result.append(arr[i])\n",
    "        comb(arr[i+1:],n-1,t)\n",
    "        result.pop()\n",
    "\n",
    "    return results\n",
    "\n",
    "    \n",
    "\n",
    "arr = [1,2,3,4,5]\n",
    "n=3\n",
    "results=[]\n",
    "result=[]\n",
    "\n",
    "print(comb(arr,n,3))\n"
   ]
  },
  {
   "cell_type": "code",
   "execution_count": null,
   "metadata": {},
   "outputs": [],
   "source": []
  }
 ],
 "metadata": {
  "kernelspec": {
   "display_name": "Python 3",
   "language": "python",
   "name": "python3"
  },
  "language_info": {
   "codemirror_mode": {
    "name": "ipython",
    "version": 3
   },
   "file_extension": ".py",
   "mimetype": "text/x-python",
   "name": "python",
   "nbconvert_exporter": "python",
   "pygments_lexer": "ipython3",
   "version": "3.10.0"
  },
  "orig_nbformat": 4,
  "vscode": {
   "interpreter": {
    "hash": "26de051ba29f2982a8de78e945f0abaf191376122a1563185a90213a26c5da77"
   }
  }
 },
 "nbformat": 4,
 "nbformat_minor": 2
}
