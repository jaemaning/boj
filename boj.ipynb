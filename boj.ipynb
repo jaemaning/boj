{
 "cells": [
  {
   "cell_type": "code",
   "execution_count": 1,
   "metadata": {},
   "outputs": [
    {
     "ename": "ValueError",
     "evalue": "not enough values to unpack (expected 2, got 0)",
     "output_type": "error",
     "traceback": [
      "\u001b[1;31m---------------------------------------------------------------------------\u001b[0m",
      "\u001b[1;31mValueError\u001b[0m                                Traceback (most recent call last)",
      "Cell \u001b[1;32mIn[1], line 4\u001b[0m\n\u001b[0;32m      1\u001b[0m \u001b[39m#1021 회전하는 큐\u001b[39;00m\n\u001b[0;32m      2\u001b[0m \u001b[39mfrom\u001b[39;00m \u001b[39mcollections\u001b[39;00m \u001b[39mimport\u001b[39;00m deque\n\u001b[1;32m----> 4\u001b[0m n,m \u001b[39m=\u001b[39m \u001b[39mmap\u001b[39m(\u001b[39mint\u001b[39m,\u001b[39minput\u001b[39m()\u001b[39m.\u001b[39msplit())\n\u001b[0;32m      5\u001b[0m targets \u001b[39m=\u001b[39m \u001b[39mlist\u001b[39m((\u001b[39mmap\u001b[39m(\u001b[39mint\u001b[39m,\u001b[39minput\u001b[39m()\u001b[39m.\u001b[39msplit())))\n\u001b[0;32m      6\u001b[0m dq \u001b[39m=\u001b[39m deque(x \u001b[39mfor\u001b[39;00m x \u001b[39min\u001b[39;00m \u001b[39mrange\u001b[39m(\u001b[39m1\u001b[39m,n\u001b[39m+\u001b[39m\u001b[39m1\u001b[39m))\n",
      "\u001b[1;31mValueError\u001b[0m: not enough values to unpack (expected 2, got 0)"
     ]
    }
   ],
   "source": [
    "#1021 회전하는 큐\n",
    "from collections import deque\n",
    "\n",
    "n,m = map(int,input().split())\n",
    "targets = list((map(int,input().split())))\n",
    "dq = deque(x for x in range(1,n+1))\n",
    "count=0\n",
    "\n",
    "for target in targets:\n",
    "    if target == dq[0] :\n",
    "        dq.popleft()            \n",
    "        \n",
    "    elif dq.index(target)+1 <= len(dq)/2+1 :\n",
    "        while target != dq[0]:\n",
    "            dq.append(dq.popleft())\n",
    "            count+=1\n",
    "        dq.popleft()\n",
    "        \n",
    "        \n",
    "    \n",
    "    elif dq.index(target)+1 > len(dq)/2+1 :\n",
    "        while target != dq[0]:\n",
    "            dq.appendleft(dq.pop())\n",
    "            count+=1\n",
    "        dq.popleft()\n",
    "        \n",
    "\n",
    "print(count)\n"
   ]
  },
  {
   "cell_type": "code",
   "execution_count": 12,
   "metadata": {},
   "outputs": [
    {
     "name": "stdout",
     "output_type": "stream",
     "text": [
      "o\n"
     ]
    }
   ],
   "source": [
    "# 1032 명령 프롬프트\n",
    "\n",
    "n = int(input())\n",
    "namelist = []\n",
    "for i in range(n):\n",
    "    name = input()\n",
    "    if i != 0:\n",
    "        for j in range(len(name)):\n",
    "            if namelist[i-1][j] != name[j]:\n",
    "                name = name[0:j] + \"?\" + name[j+1:]\n",
    "            \n",
    "\n",
    "    namelist.append(name)\n",
    "    \n",
    "print(namelist[n-1])\n"
   ]
  },
  {
   "cell_type": "code",
   "execution_count": 16,
   "metadata": {},
   "outputs": [
    {
     "name": "stdout",
     "output_type": "stream",
     "text": [
      "[]\n"
     ]
    }
   ],
   "source": [
    "#2798 블랙잭\n",
    "\n",
    "n,m = map(int,input().split())\n",
    "numberlist = list(map(int,input().split()))\n",
    "checklist = []\n",
    "count=0\n",
    "value=0\n",
    "result=[]\n",
    "\n",
    "for i in range(len(numberlist)):\n",
    "    checklist.append(False)\n",
    "\n",
    "def blackjack(count,value):\n",
    "    \n",
    "    for index,value in enumerate(numberlist) :\n",
    "        if checklist[index] == True :\n",
    "            pass\n",
    "\n",
    "        if checklist[index] == False | count!=3 :\n",
    "            checklist[index] = True\n",
    "            value+=value\n",
    "            count+=1\n",
    "            blackjack(count,value)\n",
    "            checklist[index] = False\n",
    "            count-=1\n",
    "            value-=value\n",
    "        elif count == 3 :\n",
    "            result.append(value)\n",
    "            value=0\n",
    "            count=0\n",
    "            return\n",
    "\n",
    "blackjack(count,value)\n",
    "print(result)"
   ]
  },
  {
   "cell_type": "code",
   "execution_count": null,
   "metadata": {},
   "outputs": [],
   "source": []
  }
 ],
 "metadata": {
  "kernelspec": {
   "display_name": "Python 3",
   "language": "python",
   "name": "python3"
  },
  "language_info": {
   "codemirror_mode": {
    "name": "ipython",
    "version": 3
   },
   "file_extension": ".py",
   "mimetype": "text/x-python",
   "name": "python",
   "nbconvert_exporter": "python",
   "pygments_lexer": "ipython3",
   "version": "3.10.0"
  },
  "orig_nbformat": 4,
  "vscode": {
   "interpreter": {
    "hash": "26de051ba29f2982a8de78e945f0abaf191376122a1563185a90213a26c5da77"
   }
  }
 },
 "nbformat": 4,
 "nbformat_minor": 2
}
