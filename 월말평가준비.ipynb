{
 "cells": [
  {
   "attachments": {},
   "cell_type": "markdown",
   "metadata": {},
   "source": [
    "# 1월 월말평가 준비."
   ]
  },
  {
   "cell_type": "code",
   "execution_count": 9,
   "metadata": {},
   "outputs": [
    {
     "name": "stdout",
     "output_type": "stream",
     "text": [
      "1 2 3 5 6 10 15 25 30 50 75 150 "
     ]
    }
   ],
   "source": [
    "'''\n",
    "입력으로 1개의 정수 N 이 주어진다.\n",
    "\n",
    "정수 N 의 약수를 오름차순으로 출력하는 프로그램을 작성하라.\n",
    " \n",
    "\n",
    "[제약사항]\n",
    "\n",
    "N은 1이상 1,000이하의 정수이다. (1 ≤ N ≤ 1,000)\n",
    " \n",
    "\n",
    "[입력]\n",
    "\n",
    "입력으로 정수 N 이 주어진다.\n",
    "\n",
    "\n",
    "[출력]\n",
    "\n",
    "정수 N 의 모든 약수를 오름차순으로 출력한다.\n",
    "'''\n",
    "\n",
    "n = int(input())\n",
    "root_n = int(n**0.5)\n",
    "result = []\n",
    "\n",
    "for i in range(1,root_n+1):\n",
    "    if n % i == 0:\n",
    "        result.append(i)\n",
    "        result.append(n//i)\n",
    "\n",
    "result.sort()\n",
    "for i in result:\n",
    "    print(i,end=\" \")\n",
    "# print(result)"
   ]
  },
  {
   "cell_type": "code",
   "execution_count": 10,
   "metadata": {},
   "outputs": [
    {
     "name": "stdout",
     "output_type": "stream",
     "text": [
      "15\n"
     ]
    }
   ],
   "source": [
    "'''\n",
    "2. list의 합 구하기\n",
    "\n",
    "정수로만 이루어진 list를 전달 받아 해당 list의 모든 요소들의 합을 반환하는\n",
    "list_sum 함수를 built-in 함수인 sum() 함수를 사용하지 않고 작성하시오.\n",
    "\n",
    "'''\n",
    "\n",
    "def list_sum(xlist):\n",
    "\n",
    "    result = 0\n",
    "    \n",
    "    for i in xlist:\n",
    "        result += i\n",
    "\n",
    "    return result\n",
    "\n",
    "print(list_sum([1,2,3,4,5]))"
   ]
  },
  {
   "cell_type": "code",
   "execution_count": 11,
   "metadata": {},
   "outputs": [
    {
     "data": {
      "text/plain": [
       "16"
      ]
     },
     "execution_count": 11,
     "metadata": {},
     "output_type": "execute_result"
    }
   ],
   "source": [
    "'''\n",
    "3. Dictionary로 이루어진 List의 합 구하기\n",
    "\n",
    "Dictionary로 이루어진 list를 전달 받아 모든 dictionary 'age' key 에 해당하는\n",
    "value들의 합을 반환하는 dict_list_sum 함수를 built-in 함수인 sum() 함수를\n",
    "사용하지 않고 작성하시오.\n",
    "\n",
    "'''\n",
    "\n",
    "def dict_list_sum(xdictionary_list):\n",
    "\n",
    "    result = 0\n",
    "\n",
    "    for xdictionary in xdictionary_list:\n",
    "        result += xdictionary['age']\n",
    "\n",
    "    return result\n",
    "\n",
    "dict_list_sum([{'name': 'kim', 'age': 12}, {'name': 'lee', 'age': 4}]) \n"
   ]
  },
  {
   "cell_type": "code",
   "execution_count": 15,
   "metadata": {},
   "outputs": [
    {
     "data": {
      "text/plain": [
       "55"
      ]
     },
     "execution_count": 15,
     "metadata": {},
     "output_type": "execute_result"
    }
   ],
   "source": [
    "'''\n",
    "4. 2차원 List의 전체 합 구하기\n",
    "정수로만 이루어진 2차원 list를 전달 받아 해당 list의 모든 요소들의 합을\n",
    "반환하는 all_list_sum 함수를 built-in 함수인 sum() 함수를 사용하지 않고\n",
    "작성하시오.\n",
    "\n",
    "-기존 2. list의 합 구하기 코드를 연결하여 풀었습니다.\n",
    "\n",
    "'''\n",
    "\n",
    "\n",
    "def list_sum(xlist):\n",
    "\n",
    "    result = 0\n",
    "    \n",
    "    for i in xlist:\n",
    "        result += i\n",
    "\n",
    "    return result\n",
    "\n",
    "def all_list_sum(xy_list):\n",
    "    \n",
    "    result = 0\n",
    "\n",
    "    for x in xy_list:\n",
    "        result += list_sum(x)\n",
    "\n",
    "    return result\n",
    "\n",
    "all_list_sum([[1],[2,3],[4,5,6],[7,8,9,10]])"
   ]
  },
  {
   "cell_type": "code",
   "execution_count": 28,
   "metadata": {},
   "outputs": [
    {
     "data": {
      "text/plain": [
       "'Z'"
      ]
     },
     "execution_count": 28,
     "metadata": {},
     "output_type": "execute_result"
    }
   ],
   "source": [
    "chr(90)"
   ]
  },
  {
   "cell_type": "code",
   "execution_count": 29,
   "metadata": {},
   "outputs": [
    {
     "data": {
      "text/plain": [
       "'SsAfY'"
      ]
     },
     "execution_count": 29,
     "metadata": {},
     "output_type": "execute_result"
    }
   ],
   "source": [
    "'''\n",
    "5. 숫자의 의미\n",
    "정수로 이루어진 list를 전달 받아, 각 정수에 대응되는 아스키 문자를 이어붙인\n",
    "문자열을 반환하는 get_secret_word 함수를 작성하시오.\n",
    "\n",
    "단, list는 65이상 90이하 그리고 97이상 122이하의 정수로만 구성되어 있다.\n",
    "\n",
    "'''\n",
    "\n",
    "def get_secret_word(xlist):\n",
    "    \n",
    "    result = \"\"\n",
    "\n",
    "    for number in xlist:\n",
    "        result += chr(number)\n",
    "\n",
    "    return result\n",
    "\n",
    "\n",
    "\n",
    "get_secret_word([83,115,65,102,89])"
   ]
  },
  {
   "cell_type": "code",
   "execution_count": 32,
   "metadata": {},
   "outputs": [
    {
     "data": {
      "text/plain": [
       "546"
      ]
     },
     "execution_count": 32,
     "metadata": {},
     "output_type": "execute_result"
    }
   ],
   "source": [
    "'''\n",
    "6. 내 이름은 몇일까?\n",
    "문자열을 전달 받아 해당 문자열의 각 문자에 대응되는 아스키 숫자들의\n",
    "합을 반환하는 get_secret_number 함수를 작성하시오.\n",
    "\n",
    "단, 문자열은 A~Z, a~z 로만 구성되어 있다.\n",
    "\n",
    "'''\n",
    "\n",
    "def get_secret_number(word):\n",
    "    \n",
    "    result = 0\n",
    "\n",
    "    for letter in word:\n",
    "        result += ord(letter)\n",
    "\n",
    "    return result\n",
    "\n",
    "get_secret_number('happy')"
   ]
  },
  {
   "cell_type": "code",
   "execution_count": 34,
   "metadata": {},
   "outputs": [
    {
     "name": "stdout",
     "output_type": "stream",
     "text": [
      "z\n",
      "delilah\n"
     ]
    }
   ],
   "source": [
    "'''\n",
    "7. 강한 이름\n",
    "문자열 2개를 전달 받아 두 문자열의 각 문자에 대응되는 아스키 숫자들의 합을\n",
    "비교하여 더 큰 합을 가진 문자열을 반환하는 get_strong_word 함수를 작성하시오.\n",
    "\n",
    "단, 두 문자열의 아스키 숫자의 합이 같은 경우, 둘 다 반환하세요.\n",
    "\n",
    "'''\n",
    "\n",
    "def get_strong_word(x,y):\n",
    "\n",
    "    x_result = 0\n",
    "    y_result = 0\n",
    "\n",
    "    for letter in x:\n",
    "        x_result += ord(letter)\n",
    "\n",
    "    for letter in y:\n",
    "        y_result += ord(letter)\n",
    "    \n",
    "    if x_result == y_result:\n",
    "        return (x,y)\n",
    "    elif x_result > y_result:\n",
    "        return x\n",
    "    else :\n",
    "        return y\n",
    "\n",
    "\n",
    "print(get_strong_word('z', 'a'))\n",
    "\n",
    "print(get_strong_word('delilah', 'dixon'))"
   ]
  },
  {
   "cell_type": "code",
   "execution_count": null,
   "metadata": {},
   "outputs": [],
   "source": [
    "'''\n",
    "\n",
    "빌트인 함수가 갑자기 기억이 안난다면..? \n",
    "\n",
    "아래 코드를 입력해보자 - built-in 함수 이름 리스트를 볼 수 있다.\n",
    "\n",
    "'''\n",
    "\n",
    "dir(__builtins__)  "
   ]
  },
  {
   "cell_type": "code",
   "execution_count": 19,
   "metadata": {},
   "outputs": [
    {
     "name": "stdout",
     "output_type": "stream",
     "text": [
      "\u001b[1;31mSignature:\u001b[0m \u001b[0mchr\u001b[0m\u001b[1;33m(\u001b[0m\u001b[0mi\u001b[0m\u001b[1;33m,\u001b[0m \u001b[1;33m/\u001b[0m\u001b[1;33m)\u001b[0m\u001b[1;33m\u001b[0m\u001b[1;33m\u001b[0m\u001b[0m\n",
      "\u001b[1;31mDocstring:\u001b[0m Return a Unicode string of one character with ordinal i; 0 <= i <= 0x10ffff.\n",
      "\u001b[1;31mType:\u001b[0m      builtin_function_or_method\n"
     ]
    }
   ],
   "source": [
    "'''\n",
    "꿀팁 2. \n",
    "\n",
    "빌트인 함수 명들을 봤는데 아 이 함수가 어떻게 쓰는거였더라...\n",
    "기억이 안난다면..??\n",
    "\n",
    "아래 코드를 처럼 <함수명>? 를 입력해 보자 \n",
    "간략한 함수설명과, arguments 입력값 등을 볼 수 있다. \n",
    "or 함수위에 마우스커서를 올려두면 간략한 설명이 나옵니다.\n",
    "\n",
    "주의 **  이것은 주피터 노트북에서만 가능합니다.  **\n",
    "\n",
    "'''\n",
    "\n",
    "chr?\n"
   ]
  },
  {
   "cell_type": "code",
   "execution_count": 20,
   "metadata": {},
   "outputs": [
    {
     "name": "stdout",
     "output_type": "stream",
     "text": [
      "['ArithmeticError', 'AssertionError', 'AttributeError', 'BaseException', 'BlockingIOError', 'BrokenPipeError', 'BufferError', 'BytesWarning', 'ChildProcessError', 'ConnectionAbortedError', 'ConnectionError', 'ConnectionRefusedError', 'ConnectionResetError', 'DeprecationWarning', 'EOFError', 'Ellipsis', 'EncodingWarning', 'EnvironmentError', 'Exception', 'False', 'FileExistsError', 'FileNotFoundError', 'FloatingPointError', 'FutureWarning', 'GeneratorExit', 'IOError', 'ImportError', 'ImportWarning', 'IndentationError', 'IndexError', 'InterruptedError', 'IsADirectoryError', 'KeyError', 'KeyboardInterrupt', 'LookupError', 'MemoryError', 'ModuleNotFoundError', 'NameError', 'None', 'NotADirectoryError', 'NotImplemented', 'NotImplementedError', 'OSError', 'OverflowError', 'PendingDeprecationWarning', 'PermissionError', 'ProcessLookupError', 'RecursionError', 'ReferenceError', 'ResourceWarning', 'RuntimeError', 'RuntimeWarning', 'StopAsyncIteration', 'StopIteration', 'SyntaxError', 'SyntaxWarning', 'SystemError', 'SystemExit', 'TabError', 'TimeoutError', 'True', 'TypeError', 'UnboundLocalError', 'UnicodeDecodeError', 'UnicodeEncodeError', 'UnicodeError', 'UnicodeTranslateError', 'UnicodeWarning', 'UserWarning', 'ValueError', 'Warning', 'WindowsError', 'ZeroDivisionError', '__IPYTHON__', '__build_class__', '__debug__', '__doc__', '__import__', '__loader__', '__name__', '__package__', '__spec__', 'abs', 'aiter', 'all', 'anext', 'any', 'ascii', 'bin', 'bool', 'breakpoint', 'bytearray', 'bytes', 'callable', 'chr', 'classmethod', 'compile', 'complex', 'copyright', 'credits', 'delattr', 'dict', 'dir', 'display', 'divmod', 'enumerate', 'eval', 'exec', 'execfile', 'filter', 'float', 'format', 'frozenset', 'get_ipython', 'getattr', 'globals', 'hasattr', 'hash', 'help', 'hex', 'id', 'input', 'int', 'isinstance', 'issubclass', 'iter', 'len', 'license', 'list', 'locals', 'map', 'max', 'memoryview', 'min', 'next', 'object', 'oct', 'open', 'ord', 'pow', 'print', 'property', 'range', 'repr', 'reversed', 'round', 'runfile', 'set', 'setattr', 'slice', 'sorted', 'staticmethod', 'str', 'sum', 'super', 'tuple', 'type', 'vars', 'zip']\n",
      "Help on built-in function chr in module builtins:\n",
      "\n",
      "chr(i, /)\n",
      "    Return a Unicode string of one character with ordinal i; 0 <= i <= 0x10ffff.\n",
      "\n"
     ]
    }
   ],
   "source": [
    "'''\n",
    "꿀팁 3. 시험 중 인터넷 검색도 안되고, 주피터노트북도 사용이 안된다..\n",
    "\n",
    "새로운 파일을 만들 수 있다면, 아무런 연습.py 파일을 생성하여\n",
    "\n",
    "아래 코드를 입력하면 위와 같은 설명을 볼 수 있다.\n",
    "\n",
    "'''\n",
    "\n",
    "print(dir(__builtins__))\n",
    "\n",
    "help(chr)"
   ]
  },
  {
   "cell_type": "code",
   "execution_count": 26,
   "metadata": {},
   "outputs": [
    {
     "ename": "FileNotFoundError",
     "evalue": "[Errno 2] No such file or directory: 'jo.txt'",
     "output_type": "error",
     "traceback": [
      "\u001b[1;31m---------------------------------------------------------------------------\u001b[0m",
      "\u001b[1;31mFileNotFoundError\u001b[0m                         Traceback (most recent call last)",
      "Cell \u001b[1;32mIn[26], line 10\u001b[0m\n\u001b[0;32m      1\u001b[0m \u001b[39m'''\u001b[39;00m\n\u001b[0;32m      2\u001b[0m \u001b[39mPS \u001b[39;00m\n\u001b[0;32m      3\u001b[0m \n\u001b[1;32m   (...)\u001b[0m\n\u001b[0;32m      7\u001b[0m \n\u001b[0;32m      8\u001b[0m \u001b[39m'''\u001b[39;00m\n\u001b[1;32m---> 10\u001b[0m \u001b[39mopen\u001b[39;49m(\u001b[39m'\u001b[39;49m\u001b[39mjo.txt\u001b[39;49m\u001b[39m'\u001b[39;49m, mode\u001b[39m=\u001b[39;49m\u001b[39m'\u001b[39;49m\u001b[39mr\u001b[39;49m\u001b[39m'\u001b[39;49m)\n",
      "File \u001b[1;32m~\\AppData\\Roaming\\Python\\Python310\\site-packages\\IPython\\core\\interactiveshell.py:282\u001b[0m, in \u001b[0;36m_modified_open\u001b[1;34m(file, *args, **kwargs)\u001b[0m\n\u001b[0;32m    275\u001b[0m \u001b[39mif\u001b[39;00m file \u001b[39min\u001b[39;00m {\u001b[39m0\u001b[39m, \u001b[39m1\u001b[39m, \u001b[39m2\u001b[39m}:\n\u001b[0;32m    276\u001b[0m     \u001b[39mraise\u001b[39;00m \u001b[39mValueError\u001b[39;00m(\n\u001b[0;32m    277\u001b[0m         \u001b[39mf\u001b[39m\u001b[39m\"\u001b[39m\u001b[39mIPython won\u001b[39m\u001b[39m'\u001b[39m\u001b[39mt let you open fd=\u001b[39m\u001b[39m{\u001b[39;00mfile\u001b[39m}\u001b[39;00m\u001b[39m by default \u001b[39m\u001b[39m\"\u001b[39m\n\u001b[0;32m    278\u001b[0m         \u001b[39m\"\u001b[39m\u001b[39mas it is likely to crash IPython. If you know what you are doing, \u001b[39m\u001b[39m\"\u001b[39m\n\u001b[0;32m    279\u001b[0m         \u001b[39m\"\u001b[39m\u001b[39myou can use builtins\u001b[39m\u001b[39m'\u001b[39m\u001b[39m open.\u001b[39m\u001b[39m\"\u001b[39m\n\u001b[0;32m    280\u001b[0m     )\n\u001b[1;32m--> 282\u001b[0m \u001b[39mreturn\u001b[39;00m io_open(file, \u001b[39m*\u001b[39margs, \u001b[39m*\u001b[39m\u001b[39m*\u001b[39mkwargs)\n",
      "\u001b[1;31mFileNotFoundError\u001b[0m: [Errno 2] No such file or directory: 'jo.txt'"
     ]
    }
   ],
   "source": [
    "'''\n",
    "PS \n",
    "\n",
    "혹시 다른 파일(.json, .txt, 등등)들을 읽어와서 풀어야 하는 문제가 있다.\n",
    "\n",
    "open으로 파일을 잘 읽어왔는데,, 아래 에러를 만나면..?\n",
    "\n",
    "FileNotFoundError: [Errno 2] No such file or directory: '문제추가자료.txt'\n",
    "\n",
    "작업 폴더 (working directory) 문제일 가능성이 99%..\n",
    "\n",
    "기본적인 리눅스 명령어를 숙지하거나 or 파일 경로를 다시 잡아주어야함.\n",
    "\n",
    "'''\n",
    "\n",
    "'''\n",
    "방법 1 리눅스 명령어로 해결,\n",
    "\n",
    "vscode 내에서 터미널을 bash 스크립트로 열어놓고,\n",
    "\n",
    "> ls\n",
    "> pwd\n",
    "> cd\n",
    "> python 문제1.py\n",
    "\n",
    "위 4가지 명령어는 숙지하면 매우 편함.\n",
    "'''\n",
    "\n",
    "\n",
    "'''\n",
    "방법 2 파일 경로 변경\n",
    "\n",
    "데이터가 들어있는 정확한 파일경로를 절대경로로 잡아주거나, \n",
    "상대경로를 정확히 입력해준다.\n",
    "\n",
    "'''\n",
    "\n"
   ]
  }
 ],
 "metadata": {
  "kernelspec": {
   "display_name": "Python 3",
   "language": "python",
   "name": "python3"
  },
  "language_info": {
   "codemirror_mode": {
    "name": "ipython",
    "version": 3
   },
   "file_extension": ".py",
   "mimetype": "text/x-python",
   "name": "python",
   "nbconvert_exporter": "python",
   "pygments_lexer": "ipython3",
   "version": "3.10.0"
  },
  "orig_nbformat": 4,
  "vscode": {
   "interpreter": {
    "hash": "26de051ba29f2982a8de78e945f0abaf191376122a1563185a90213a26c5da77"
   }
  }
 },
 "nbformat": 4,
 "nbformat_minor": 2
}
