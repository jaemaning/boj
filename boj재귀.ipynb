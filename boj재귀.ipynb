{
 "cells": [
  {
   "cell_type": "code",
   "execution_count": 12,
   "metadata": {},
   "outputs": [
    {
     "data": {
      "text/plain": [
       "55"
      ]
     },
     "execution_count": 12,
     "metadata": {},
     "output_type": "execute_result"
    }
   ],
   "source": [
    "def fibo(n):\n",
    "    result=0\n",
    "    \n",
    "    if n == 0 :\n",
    "        return 0\n",
    "    elif n == 1 :\n",
    "        return 1\n",
    "    else:\n",
    "        result += fibo(n-2) + fibo(n-1)\n",
    "\n",
    "    return result\n",
    "\n",
    "\n",
    "fibo(10)\n",
    "    "
   ]
  },
  {
   "cell_type": "code",
   "execution_count": 21,
   "metadata": {},
   "outputs": [
    {
     "name": "stdout",
     "output_type": "stream",
     "text": [
      "1 2\n",
      "1 3\n",
      "1 3\n",
      "0 2\n",
      "0 1\n"
     ]
    }
   ],
   "source": [
    "def recursion(s, l, r, cnt) :\n",
    "\n",
    "    if l >= r :\n",
    "        return 1, cnt\n",
    "    elif s[l] != s[r] :\n",
    "        return 0, cnt\n",
    "    else :\n",
    "        cnt+=1\n",
    "        return recursion(s, l+1, r-1, cnt)\n",
    "\n",
    "\n",
    "def isPalindrome(s):\n",
    "    return recursion(s, 0, len(s)-1, 1)\n",
    "\n",
    "n = int(input())\n",
    "\n",
    "for i in range(n):\n",
    "    s = input()\n",
    "    print(isPalindrome(s)[0],isPalindrome(s)[1])"
   ]
  },
  {
   "cell_type": "code",
   "execution_count": 3,
   "metadata": {},
   "outputs": [
    {
     "ename": "KeyboardInterrupt",
     "evalue": "",
     "output_type": "error",
     "traceback": [
      "\u001b[1;31m---------------------------------------------------------------------------\u001b[0m",
      "\u001b[1;31mKeyboardInterrupt\u001b[0m                         Traceback (most recent call last)",
      "Cell \u001b[1;32mIn[3], line 34\u001b[0m\n\u001b[0;32m     31\u001b[0m         A\u001b[39m=\u001b[39mtmp[t]\n\u001b[0;32m     33\u001b[0m A \u001b[39m=\u001b[39m [\u001b[39m4\u001b[39m,\u001b[39m5\u001b[39m,\u001b[39m1\u001b[39m,\u001b[39m3\u001b[39m,\u001b[39m2\u001b[39m]\n\u001b[1;32m---> 34\u001b[0m merge_sort(A,\u001b[39m0\u001b[39;49m,\u001b[39mlen\u001b[39;49m(A)\u001b[39m-\u001b[39;49m\u001b[39m1\u001b[39;49m)\n",
      "Cell \u001b[1;32mIn[3], line 4\u001b[0m, in \u001b[0;36mmerge_sort\u001b[1;34m(A, p, r)\u001b[0m\n\u001b[0;32m      2\u001b[0m \u001b[39mif\u001b[39;00m (p \u001b[39m<\u001b[39m r) :\n\u001b[0;32m      3\u001b[0m     q \u001b[39m=\u001b[39m (p \u001b[39m+\u001b[39m r) \u001b[39m/\u001b[39m\u001b[39m/\u001b[39m \u001b[39m2\u001b[39m       \u001b[39m# q는 p, r의 중간 지점\u001b[39;00m\n\u001b[1;32m----> 4\u001b[0m     merge_sort(A, p, q)      \u001b[39m# 전반부 정렬\u001b[39;00m\n\u001b[0;32m      5\u001b[0m     merge_sort(A, q \u001b[39m+\u001b[39m \u001b[39m1\u001b[39m, r)  \u001b[39m# 후반부 정렬\u001b[39;00m\n\u001b[0;32m      6\u001b[0m     merge(A, p, q, r)\n",
      "Cell \u001b[1;32mIn[3], line 4\u001b[0m, in \u001b[0;36mmerge_sort\u001b[1;34m(A, p, r)\u001b[0m\n\u001b[0;32m      2\u001b[0m \u001b[39mif\u001b[39;00m (p \u001b[39m<\u001b[39m r) :\n\u001b[0;32m      3\u001b[0m     q \u001b[39m=\u001b[39m (p \u001b[39m+\u001b[39m r) \u001b[39m/\u001b[39m\u001b[39m/\u001b[39m \u001b[39m2\u001b[39m       \u001b[39m# q는 p, r의 중간 지점\u001b[39;00m\n\u001b[1;32m----> 4\u001b[0m     merge_sort(A, p, q)      \u001b[39m# 전반부 정렬\u001b[39;00m\n\u001b[0;32m      5\u001b[0m     merge_sort(A, q \u001b[39m+\u001b[39m \u001b[39m1\u001b[39m, r)  \u001b[39m# 후반부 정렬\u001b[39;00m\n\u001b[0;32m      6\u001b[0m     merge(A, p, q, r)\n",
      "Cell \u001b[1;32mIn[3], line 6\u001b[0m, in \u001b[0;36mmerge_sort\u001b[1;34m(A, p, r)\u001b[0m\n\u001b[0;32m      4\u001b[0m merge_sort(A, p, q)      \u001b[39m# 전반부 정렬\u001b[39;00m\n\u001b[0;32m      5\u001b[0m merge_sort(A, q \u001b[39m+\u001b[39m \u001b[39m1\u001b[39m, r)  \u001b[39m# 후반부 정렬\u001b[39;00m\n\u001b[1;32m----> 6\u001b[0m merge(A, p, q, r)\n",
      "Cell \u001b[1;32mIn[3], line 20\u001b[0m, in \u001b[0;36mmerge\u001b[1;34m(A, p, q, r)\u001b[0m\n\u001b[0;32m     18\u001b[0m \u001b[39mwhile\u001b[39;00m (i \u001b[39m<\u001b[39m\u001b[39m=\u001b[39m q \u001b[39mand\u001b[39;00m j \u001b[39m<\u001b[39m\u001b[39m=\u001b[39m r) :\n\u001b[0;32m     19\u001b[0m     \u001b[39mif\u001b[39;00m (A[i] \u001b[39m<\u001b[39m\u001b[39m=\u001b[39m A[j]):\n\u001b[1;32m---> 20\u001b[0m         tmp\u001b[39m.\u001b[39;49mappend(A[i]) \u001b[39m# tmp[t] <- A[i]; t++; i++;\u001b[39;00m\n\u001b[0;32m     21\u001b[0m     \u001b[39melse\u001b[39;00m : \n\u001b[0;32m     22\u001b[0m         tmp\u001b[39m.\u001b[39mappend(A[j]) \u001b[39m# tmp[t] <- A[j]; t++; j++;\u001b[39;00m\n",
      "\u001b[1;31mKeyboardInterrupt\u001b[0m: "
     ]
    }
   ],
   "source": [
    "def merge_sort(A,p,r):  # A[p..r]을 오름차순 정렬한다.\n",
    "    if (p < r) :\n",
    "        q = (p + r) // 2       # q는 p, r의 중간 지점\n",
    "        merge_sort(A, p, q)      # 전반부 정렬\n",
    "        merge_sort(A, q + 1, r)  # 후반부 정렬\n",
    "        merge(A, p, q, r)        # 병합\n",
    "    \n",
    "\n",
    "\n",
    "# A[p..q]와 A[q+1..r]을 병합하여 A[p..r]을 오름차순 정렬된 상태로 만든다.\n",
    "# A[p..q]와 A[q+1..r]은 이미 오름차순으로 정렬되어 있다.\n",
    "def merge(A, p, q, r) :\n",
    "    i = p\n",
    "    j = q+1\n",
    "    t = 1\n",
    "    tmp = []\n",
    "\n",
    "    while (i <= q and j <= r) :\n",
    "        if (A[i] <= A[j]):\n",
    "            tmp.append(A[i]) # tmp[t] <- A[i]; t++; i++;\n",
    "        else : \n",
    "            tmp.append(A[j]) # tmp[t] <- A[j]; t++; j++;\n",
    "    \n",
    "    while (i <= q) : # 왼쪽 배열 부분이 남은 경우\n",
    "        tmp.append(A[i])\n",
    "    while (j <= r) : # 오른쪽 배열 부분이 남은 경우\n",
    "        tmp.append(A[j])\n",
    "    i = p\n",
    "    t = 1\n",
    "    while (i <= r) : # 결과를 A[p..r]에 저장\n",
    "        A=tmp[t]\n",
    "\n",
    "A = [4,5,1,3,2]\n",
    "merge_sort(A,0,len(A)-1)"
   ]
  }
 ],
 "metadata": {
  "kernelspec": {
   "display_name": "Python 3",
   "language": "python",
   "name": "python3"
  },
  "language_info": {
   "codemirror_mode": {
    "name": "ipython",
    "version": 3
   },
   "file_extension": ".py",
   "mimetype": "text/x-python",
   "name": "python",
   "nbconvert_exporter": "python",
   "pygments_lexer": "ipython3",
   "version": "3.10.0"
  },
  "orig_nbformat": 4,
  "vscode": {
   "interpreter": {
    "hash": "26de051ba29f2982a8de78e945f0abaf191376122a1563185a90213a26c5da77"
   }
  }
 },
 "nbformat": 4,
 "nbformat_minor": 2
}
